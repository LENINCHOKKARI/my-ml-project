{
 "cells": [
  {
   "cell_type": "markdown",
   "metadata": {},
   "source": [
    "# 🐙 ML Project - GitHub Codespaces GPU Training\n",
    "\n",
    "**GitHub Codespaces provides FREE GPU access!**\n",
    "\n",
    "**Instructions:**\n",
    "1. Go to your GitHub repo: https://github.com/LENINCHOKKARI/my-ml-project\n",
    "2. Click **Code** → **Codespaces** → **Create codespace**\n",
    "3. Choose **4-core** or **8-core** machine (includes GPU access)\n",
    "4. Run this notebook in the cloud IDE!\n",
    "\n",
    "**Free Tier**: 120 core hours/month (15-30 hours of GPU time)"
   ]
  },
  {
   "cell_type": "code",
   "execution_count": null,
   "metadata": {},
   "outputs": [],
   "source": [
    "# 🎯 You're already in your project!\n",
    "# No need to clone - Codespaces automatically loads your repo\n",
    "\n",
    "# 📦 Install requirements (if not already installed)\n",
    "!pip install -r requirements.txt\n",
    "\n",
    "print(\"✅ GitHub Codespaces setup complete!\")\n",
    "print(\"🐙 Running directly from your GitHub repository!\")"
   ]
  },
  {
   "cell_type": "code",
   "execution_count": null,
   "metadata": {},
   "outputs": [],
   "source": [
    "# 🔥 Check GPU availability in Codespaces\n",
    "import torch\n",
    "import tensorflow as tf\n",
    "import subprocess\n",
    "\n",
    "print(\"🐙 GitHub Codespaces Environment Check:\")\n",
    "print(f\"🚀 PyTorch CUDA available: {torch.cuda.is_available()}\")\n",
    "\n",
    "if torch.cuda.is_available():\n",
    "    print(f\"📱 GPU: {torch.cuda.get_device_name(0)}\")\n",
    "    print(f\"💾 GPU Memory: {torch.cuda.get_device_properties(0).total_memory / 1e9:.1f} GB\")\n",
    "else:\n",
    "    print(\"💡 GPU not detected. Make sure you selected a GPU-enabled machine type.\")\n",
    "\n",
    "print(f\"\\n🧠 TensorFlow GPUs: {len(tf.config.list_physical_devices('GPU'))}\")\n",
    "\n",
    "# Check system info\n",
    "try:\n",
    "    result = subprocess.run(['nvidia-smi'], capture_output=True, text=True)\n",
    "    if result.returncode == 0:\n",
    "        print(\"\\n🎮 NVIDIA GPU Info:\")\n",
    "        print(result.stdout)\n",
    "except:\n",
    "    print(\"\\n💡 nvidia-smi not available (CPU-only instance)\")\n",
    "\n",
    "device = torch.device('cuda' if torch.cuda.is_available() else 'cpu')\n",
    "print(f\"\\n🎯 Using device: {device}\")"
   ]
  },
  {
   "cell_type": "code",
   "execution_count": null,
   "metadata": {},
   "outputs": [],
   "source": [
    "# 📚 Import your ML libraries\n",
    "import numpy as np\n",
    "import pandas as pd\n",
    "import matplotlib.pyplot as plt\n",
    "import seaborn as sns\n",
    "\n",
    "# Deep Learning\n",
    "import torch\n",
    "import torch.nn as nn\n",
    "import torch.optim as optim\n",
    "import tensorflow as tf\n",
    "from sklearn.model_selection import train_test_split\n",
    "from sklearn.metrics import accuracy_score\n",
    "\n",
    "print(\"📊 All libraries imported successfully!\")\n",
    "print(\"🐙 Ready for GitHub Codespaces GPU training!\")"
   ]
  },
  {
   "cell_type": "markdown",
   "metadata": {},
   "source": [
    "## 🏋️ Your Training Code Here\n",
    "\n",
    "**Advantages of GitHub Codespaces:**\n",
    "- 🔄 **Direct integration** with your repository\n",
    "- 💾 **Persistent storage** - your changes are saved\n",
    "- 🔒 **Private by default** - your code stays secure\n",
    "- 🌐 **Full VS Code** experience in the browser\n",
    "- 🚀 **No setup required** - everything just works\n",
    "\n",
    "Add your model training code below:"
   ]
  },
  {
   "cell_type": "code",
   "execution_count": null,
   "metadata": {},
   "outputs": [],
   "source": [
    "# 🏋️ Example: GPU-accelerated training\n",
    "# Replace with your actual model\n",
    "\n",
    "if torch.cuda.is_available():\n",
    "    print(\"🚀 Training with GPU acceleration!\")\n",
    "    \n",
    "    # Create dummy data\n",
    "    X = torch.randn(1000, 10).to(device)\n",
    "    y = torch.randn(1000, 1).to(device)\n",
    "    \n",
    "    # Simple model\n",
    "    model = nn.Sequential(\n",
    "        nn.Linear(10, 128),\n",
    "        nn.ReLU(),\n",
    "        nn.Linear(128, 64),\n",
    "        nn.ReLU(),\n",
    "        nn.Linear(64, 1)\n",
    "    ).to(device)\n",
    "    \n",
    "    # Training\n",
    "    optimizer = optim.Adam(model.parameters())\n",
    "    criterion = nn.MSELoss()\n",
    "    \n",
    "    for epoch in range(100):\n",
    "        optimizer.zero_grad()\n",
    "        outputs = model(X)\n",
    "        loss = criterion(outputs, y)\n",
    "        loss.backward()\n",
    "        optimizer.step()\n",
    "        \n",
    "        if epoch % 20 == 0:\n",
    "            print(f\"Epoch {epoch}, Loss: {loss.item():.4f}\")\n",
    "    \n",
    "    print(\"✅ GPU training complete!\")\n",
    "else:\n",
    "    print(\"💡 Running on CPU - consider upgrading to GPU-enabled Codespace\")"
   ]
  },
  {
   "cell_type": "code",
   "execution_count": null,
   "metadata": {},
   "outputs": [],
   "source": [
    "# 💾 Save your trained model\n",
    "# torch.save(model.state_dict(), 'models/codespaces_trained_model.pth')\n",
    "\n",
    "# 🔄 Commit changes directly in Codespaces\n",
    "# Your changes are automatically synced with GitHub!\n",
    "\n",
    "print(\"🎉 Training complete in GitHub Codespaces!\")\n",
    "print(\"💾 Changes are automatically saved to your repository\")\n",
    "print(\"🔄 Use the Source Control panel to commit and push changes\")"
   ]
  },
  {
   "cell_type": "markdown",
   "metadata": {},
   "source": [
    "## 🎯 GitHub Codespaces Benefits\n",
    "\n",
    "**Free Tier:**\n",
    "- 120 core hours/month\n",
    "- 15 GB storage\n",
    "- 2-core, 4-core, 8-core machines\n",
    "- GPU access on higher tiers\n",
    "\n",
    "**Perfect for:**\n",
    "- 🔬 **Experimentation** - Quick prototyping\n",
    "- 🎓 **Learning** - No local setup required\n",
    "- 🤝 **Collaboration** - Share live coding sessions\n",
    "- 🚀 **Development** - Full IDE experience\n",
    "\n",
    "**Access GPU:** Choose 4-core or 8-core machine when creating Codespace"
   ]
  }
 ],
 "metadata": {
  "kernelspec": {
   "display_name": "Python 3",
   "language": "python",
   "name": "python3"
  },
  "language_info": {
   "name": "python",
   "version": "3.10.0"
  }
 },
 "nbformat": 4,
 "nbformat_minor": 4
}