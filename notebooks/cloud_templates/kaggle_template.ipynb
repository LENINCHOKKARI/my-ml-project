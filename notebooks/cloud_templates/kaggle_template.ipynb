{
 "cells": [
  {
   "cell_type": "markdown",
   "metadata": {},
   "source": [
    "# 🏆 ML Project - Kaggle GPU Training\n",
    "\n",
    "**Instructions:**\n",
    "1. Settings → Accelerator → GPU T4 x2\n",
    "2. Replace `YOUR_USERNAME/YOUR_REPO` with your GitHub details\n",
    "3. Run all cells for GPU-powered training!"
   ]
  },
  {
   "cell_type": "code",
   "execution_count": null,
   "metadata": {},
   "outputs": [],
   "source": [
    "# 📥 Clone your Kiro project\n",
    "import os\n",
    "os.system('git clone https://github.com/YOUR_USERNAME/YOUR_REPO.git')\n",
    "os.chdir('YOUR_REPO')\n",
    "\n",
    "# 📦 Install requirements\n",
    "!pip install -r requirements.txt\n",
    "\n",
    "print(\"✅ Project setup complete on Kaggle!\")"
   ]
  },
  {
   "cell_type": "code",
   "execution_count": null,
   "metadata": {},
   "outputs": [],
   "source": [
    "# 🔥 Check GPU availability\n",
    "import torch\n",
    "import tensorflow as tf\n",
    "\n",
    "print(f\"🚀 PyTorch CUDA available: {torch.cuda.is_available()}\")\n",
    "if torch.cuda.is_available():\n",
    "    print(f\"📱 GPU Count: {torch.cuda.device_count()}\")\n",
    "    for i in range(torch.cuda.device_count()):\n",
    "        print(f\"📱 GPU {i}: {torch.cuda.get_device_name(i)}\")\n",
    "\n",
    "print(f\"\\n🧠 TensorFlow GPUs: {len(tf.config.list_physical_devices('GPU'))}\")\n",
    "\n",
    "# Set device\n",
    "device = torch.device('cuda' if torch.cuda.is_available() else 'cpu')\n",
    "print(f\"\\n🎯 Using device: {device}\")"
   ]
  },
  {
   "cell_type": "code",
   "execution_count": null,
   "metadata": {},
   "outputs": [],
   "source": [
    "# 📚 Import libraries\n",
    "import numpy as np\n",
    "import pandas as pd\n",
    "import matplotlib.pyplot as plt\n",
    "import seaborn as sns\n",
    "\n",
    "# ML Libraries\n",
    "import torch\n",
    "import torch.nn as nn\n",
    "import torch.optim as optim\n",
    "from sklearn.model_selection import train_test_split\n",
    "from sklearn.metrics import accuracy_score\n",
    "\n",
    "print(\"📊 Ready for Kaggle GPU training!\")"
   ]
  },
  {
   "cell_type": "markdown",
   "metadata": {},
   "source": [
    "## 🏋️ Your Training Code\n",
    "Add your model training here. Kaggle gives you 30+ hours of GPU time per week!"
   ]
  },
  {
   "cell_type": "code",
   "execution_count": null,
   "metadata": {},
   "outputs": [],
   "source": [
    "# 💾 Save and push results\n",
    "# torch.save(model.state_dict(), 'models/kaggle_trained_model.pth')\n",
    "\n",
    "# !git add .\n",
    "# !git commit -m \"Training results from Kaggle GPU\"\n",
    "# !git push origin main\n",
    "\n",
    "print(\"🎉 Training complete on Kaggle!\")"
   ]
  }
 ],
 "metadata": {
  "kernelspec": {
   "display_name": "Python 3",
   "language": "python",
   "name": "python3"
  },
  "language_info": {
   "name": "python",
   "version": "3.10.0"
  }
 },
 "nbformat": 4,
 "nbformat_minor": 4
}