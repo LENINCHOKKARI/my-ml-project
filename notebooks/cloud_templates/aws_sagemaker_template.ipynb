{
 "cells": [
  {
   "cell_type": "markdown",
   "metadata": {},
   "source": [
    "# ☁️ ML Project - AWS SageMaker Training\n",
    "\n",
    "**Instructions:**\n",
    "1. Create SageMaker notebook instance with GPU (ml.p3.2xlarge)\n",
    "2. Replace `YOUR_USERNAME/YOUR_REPO` with your GitHub details\n",
    "3. Run for enterprise-grade GPU training!"
   ]
  },
  {
   "cell_type": "code",
   "execution_count": null,
   "metadata": {},
   "outputs": [],
   "source": [
    "# 📥 Clone your Kiro project\n",
    "!git clone https://github.com/YOUR_USERNAME/YOUR_REPO.git\n",
    "%cd YOUR_REPO\n",
    "\n",
    "# 📦 Install requirements\n",
    "!pip install -r requirements.txt\n",
    "\n",
    "print(\"✅ Project setup complete on AWS SageMaker!\")"
   ]
  },
  {
   "cell_type": "code",
   "execution_count": null,
   "metadata": {},
   "outputs": [],
   "source": [
    "# 🔥 Check GPU availability\n",
    "import torch\n",
    "import tensorflow as tf\n",
    "import sagemaker\n",
    "\n",
    "print(f\"🚀 PyTorch CUDA available: {torch.cuda.is_available()}\")\n",
    "if torch.cuda.is_available():\n",
    "    print(f\"📱 GPU: {torch.cuda.get_device_name(0)}\")\n",
    "    print(f\"💾 GPU Memory: {torch.cuda.get_device_properties(0).total_memory / 1e9:.1f} GB\")\n",
    "\n",
    "print(f\"\\n🧠 TensorFlow GPUs: {len(tf.config.list_physical_devices('GPU'))}\")\n",
    "print(f\"☁️ SageMaker Session: {sagemaker.Session().boto_region_name}\")\n",
    "\n",
    "device = torch.device('cuda' if torch.cuda.is_available() else 'cpu')\n",
    "print(f\"\\n🎯 Using device: {device}\")"
   ]
  },
  {
   "cell_type": "code",
   "execution_count": null,
   "metadata": {},
   "outputs": [],
   "source": [
    "# 📚 Import libraries\n",
    "import numpy as np\n",
    "import pandas as pd\n",
    "import matplotlib.pyplot as plt\n",
    "import boto3\n",
    "\n",
    "# ML Libraries\n",
    "import torch\n",
    "import torch.nn as nn\n",
    "import torch.optim as optim\n",
    "from sklearn.model_selection import train_test_split\n",
    "\n",
    "print(\"📊 Ready for AWS SageMaker training!\")"
   ]
  },
  {
   "cell_type": "markdown",
   "metadata": {},
   "source": [
    "## 🏋️ Enterprise GPU Training\n",
    "SageMaker provides powerful GPUs for large-scale training"
   ]
  },
  {
   "cell_type": "code",
   "execution_count": null,
   "metadata": {},
   "outputs": [],
   "source": [
    "# 💾 Save to S3 and push results\n",
    "# !aws s3 cp models/ s3://your-bucket/models/ --recursive\n",
    "# !git add .\n",
    "# !git commit -m \"Training results from AWS SageMaker\"\n",
    "# !git push origin main\n",
    "\n",
    "print(\"🎉 Training complete on AWS SageMaker!\")"
   ]
  }
 ],
 "metadata": {
  "kernelspec": {
   "display_name": "Python 3",
   "language": "python",
   "name": "python3"
  },
  "language_info": {
   "name": "python",
   "version": "3.10.0"
  }
 },
 "nbformat": 4,
 "nbformat_minor": 4
}