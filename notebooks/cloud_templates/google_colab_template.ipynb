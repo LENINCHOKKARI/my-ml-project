{
 "cells": [
  {
   "cell_type": "markdown",
   "metadata": {
    "id": "header"
   },
   "source": [
    "# 🚀 ML Project - Google Colab GPU Training\n",
    "\n",
    "**Instructions:**\n",
    "1. Runtime → Change runtime type → GPU (T4)\n",
    "2. Ready to use - GitHub URL already configured!\n",
    "3. Run all cells to get your Kiro project with GPU power!"
   ]
  },
  {
   "cell_type": "code",
   "execution_count": null,
   "metadata": {
    "id": "setup"
   },
   "outputs": [],
   "source": [
    "# 📥 Clone your Kiro project\n",
    "!git clone https://github.com/LENINCHOKKARI/my-ml-project.git\n",
    "%cd my-ml-project\n",
    "\n",
    "# 📦 Install requirements\n",
    "!pip install -r requirements.txt\n",
    "\n",
    "print(\"✅ Project setup complete!\")"
   ]
  },
  {
   "cell_type": "code",
   "execution_count": null,
   "metadata": {
    "id": "gpu_check"
   },
   "outputs": [],
   "source": [
    "# 🔥 Check GPU availability\n",
    "import torch\n",
    "import tensorflow as tf\n",
    "\n",
    "print(f\"🚀 PyTorch CUDA available: {torch.cuda.is_available()}\")\n",
    "if torch.cuda.is_available():\n",
    "    print(f\"📱 GPU: {torch.cuda.get_device_name(0)}\")\n",
    "    print(f\"💾 GPU Memory: {torch.cuda.get_device_properties(0).total_memory / 1e9:.1f} GB\")\n",
    "\n",
    "print(f\"\\n🧠 TensorFlow GPUs: {len(tf.config.list_physical_devices('GPU'))}\")\n",
    "\n",
    "# Set device for PyTorch\n",
    "device = torch.device('cuda' if torch.cuda.is_available() else 'cpu')\n",
    "print(f\"\\n🎯 Using device: {device}\")"
   ]
  },
  {
   "cell_type": "code",
   "execution_count": null,
   "metadata": {
    "id": "imports"
   },
   "outputs": [],
   "source": [
    "# 📚 Import your ML libraries\n",
    "import numpy as np\n",
    "import pandas as pd\n",
    "import matplotlib.pyplot as plt\n",
    "import seaborn as sns\n",
    "\n",
    "# Deep Learning\n",
    "import torch\n",
    "import torch.nn as nn\n",
    "import torch.optim as optim\n",
    "import tensorflow as tf\n",
    "from sklearn.model_selection import train_test_split\n",
    "\n",
    "print(\"📊 All libraries imported successfully!\")\n",
    "print(\"🎉 Ready for GPU-powered ML training!\")"
   ]
  },
  {
   "cell_type": "markdown",
   "metadata": {
    "id": "training_section"
   },
   "source": [
    "## 🏋️ Your Training Code Here\n",
    "\n",
    "Add your model training code below. Remember to:\n",
    "- Move models to GPU: `model.to(device)`\n",
    "- Move data to GPU: `data.to(device)`\n",
    "- Save results: `torch.save(model.state_dict(), 'models/trained_model.pth')`"
   ]
  },
  {
   "cell_type": "code",
   "execution_count": null,
   "metadata": {
    "id": "training"
   },
   "outputs": [],
   "source": [
    "# 🏋️ Example: Simple neural network training\n",
    "# Replace with your actual model\n",
    "\n",
    "# Create dummy data\n",
    "X = torch.randn(1000, 10).to(device)\n",
    "y = torch.randn(1000, 1).to(device)\n",
    "\n",
    "# Simple model\n",
    "model = nn.Sequential(\n",
    "    nn.Linear(10, 64),\n",
    "    nn.ReLU(),\n",
    "    nn.Linear(64, 32),\n",
    "    nn.ReLU(),\n",
    "    nn.Linear(32, 1)\n",
    ").to(device)\n",
    "\n",
    "# Training\n",
    "optimizer = optim.Adam(model.parameters())\n",
    "criterion = nn.MSELoss()\n",
    "\n",
    "print(\"🚀 Training on GPU...\")\n",
    "for epoch in range(100):\n",
    "    optimizer.zero_grad()\n",
    "    outputs = model(X)\n",
    "    loss = criterion(outputs, y)\n",
    "    loss.backward()\n",
    "    optimizer.step()\n",
    "    \n",
    "    if epoch % 20 == 0:\n",
    "        print(f\"Epoch {epoch}, Loss: {loss.item():.4f}\")\n",
    "\n",
    "print(\"✅ Training complete!\")"
   ]
  },
  {
   "cell_type": "code",
   "execution_count": null,
   "metadata": {
    "id": "save_results"
   },
   "outputs": [],
   "source": [
    "# 💾 Save your trained model\n",
    "torch.save(model.state_dict(), 'models/colab_trained_model.pth')\n",
    "\n",
    "# 📤 Push results back to GitHub\n",
    "!git add models/ notebooks/\n",
    "!git commit -m \"Training results from Google Colab GPU\"\n",
    "!git push origin main\n",
    "\n",
    "print(\"🎉 Results saved and pushed to GitHub!\")\n",
    "print(\"📥 Pull in Kiro with: git pull origin main\")"
   ]
  }
 ],
 "metadata": {
  "accelerator": "GPU",
  "colab": {
   "gpuType": "T4",
   "provenance": []
  },
  "kernelspec": {
   "display_name": "Python 3",
   "language": "python",
   "name": "python3"
  },
  "language_info": {
   "name": "python",
   "version": "3.10.0"
  }
 },
 "nbformat": 4,
 "nbformat_minor": 0
}